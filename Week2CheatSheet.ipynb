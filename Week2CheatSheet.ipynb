{
  "nbformat": 4,
  "nbformat_minor": 0,
  "metadata": {
    "colab": {
      "name": "Week2CheatSheet.ipynb",
      "version": "0.3.2",
      "provenance": [],
      "collapsed_sections": []
    },
    "kernelspec": {
      "name": "python3",
      "display_name": "Python 3"
    }
  },
  "cells": [
    {
      "cell_type": "markdown",
      "metadata": {
        "id": "u-cP8yB_qsiS",
        "colab_type": "text"
      },
      "source": [
        "# Python Cheat Sheet\n"
      ]
    },
    {
      "cell_type": "code",
      "metadata": {
        "id": "GUX_hyI7re37",
        "colab_type": "code",
        "colab": {}
      },
      "source": [
        "import pandas as pd\n",
        "import numpy as np\n",
        "import matplotlib.pyplot as plt\n",
        "import seaborn as sns"
      ],
      "execution_count": 0,
      "outputs": []
    },
    {
      "cell_type": "markdown",
      "metadata": {
        "id": "U1_lpIyjrXaj",
        "colab_type": "text"
      },
      "source": [
        "General Information"
      ]
    },
    {
      "cell_type": "code",
      "metadata": {
        "id": "8y4pF49DqiUX",
        "colab_type": "code",
        "colab": {}
      },
      "source": [
        "# getting column names\n",
        "df.columns.values\n",
        "\n",
        "# getting data types in each column\n",
        "df.info()\n",
        "\n",
        "# getting summaries of columns\n",
        "\n",
        "df.describe() # numerical variables\n",
        "df.describe(include = ['O']) # categorical variables\n",
        "\n",
        "# getting dummies\n",
        "\n",
        "pd.get_dummies(df)\n",
        "\n",
        "#log-transforming a variable\n",
        "\n",
        "np.log1n(df[\"Variable of Choice\"])\n",
        "\n",
        "#getting null values\n",
        "\n",
        "df.isnull()"
      ],
      "execution_count": 0,
      "outputs": []
    },
    {
      "cell_type": "markdown",
      "metadata": {
        "id": "iRkXoe9lrlNN",
        "colab_type": "text"
      },
      "source": [
        "Exploratory Visualizations\n"
      ]
    },
    {
      "cell_type": "code",
      "metadata": {
        "id": "m9YxZtbWrp3q",
        "colab_type": "code",
        "colab": {}
      },
      "source": [
        "# making a heat map of correlations\n",
        "\n",
        "sns.heatmap(df.corr())\n",
        "\n"
      ],
      "execution_count": 0,
      "outputs": []
    },
    {
      "cell_type": "markdown",
      "metadata": {
        "id": "zD2zuWOMrxZD",
        "colab_type": "text"
      },
      "source": [
        "Forms of Classification"
      ]
    },
    {
      "cell_type": "code",
      "metadata": {
        "id": "j0MsCND6r0An",
        "colab_type": "code",
        "colab": {}
      },
      "source": [
        "# logistic regression\n",
        "\n",
        "from sklearn.linear_model import LogisticRegression\n",
        "\n",
        "logreg = LogisticRegression() \n",
        "logreg.fit(x_train, y_train) # fit the logistic regression model to the data\n",
        "y_pred = logreg.predict(x_test) # test the model on the test x-values\n",
        "\n",
        "#decision tree\n",
        "\n",
        "from sklearn.tree import DecisionTreeClassifier\n",
        "\n",
        "tree = DecisionTreeClassifier()\n",
        "tree.fit(x_train, y_train) # fit the decision tree to the data\n",
        "y_predict = tree.predict(x_test) # predict the y-values based on the tree on the test x-values\n",
        "\n",
        "#random forest \n",
        "\n",
        "from sklearn.ensemble import RandomForestClassifier\n",
        "\n",
        "forest = RandomForestClassifier(criterion = 'entropy')\n",
        "forest.fit(x_train, y_train) # fit the random forest to the data\n",
        "y_predict = forest.predict(x_test) # predict the y-values based on the forest on the test x-values\n",
        "\n",
        "# SVC\n",
        "\n",
        "svc = SVC()\n",
        "svc.fit(x_train y_train) # fit the SVC to the data\n",
        "y_predict = svc.predict(x_test) # predict the y-values for the test x-valuse"
      ],
      "execution_count": 0,
      "outputs": []
    }
  ]
}